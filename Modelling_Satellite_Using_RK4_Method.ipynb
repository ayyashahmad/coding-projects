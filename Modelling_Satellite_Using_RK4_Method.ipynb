{
 "cells": [
  {
   "cell_type": "code",
   "execution_count": 79,
   "metadata": {},
   "outputs": [],
   "source": [
    "import numpy as np\n",
    "import math\n",
    "import matplotlib.pyplot as plt\n",
    "import matplotlib.patches as mpatches\n",
    "\n",
    "GM=3.98601877e14\n",
    "R=6.3781e6\n",
    "\n",
    "def xycomp_vector(mag,deg):\n",
    "    x=mag*np.cos(math.radians(deg))\n",
    "    y=mag*np.sin(math.radians(deg))\n",
    "    return [x,y]\n",
    "\n",
    "def magnitude(x):\n",
    "    return np.linalg.norm(x)\n",
    "\n",
    "def Function(F,t,x,v):\n",
    "    if F==1:\n",
    "        return v\n",
    "    if F==2:\n",
    "        a=((-G*M)/(x[0]**2+x[1]**2)**1.5)*np.array([x[0],x[1]])\n",
    "        return a\n",
    "\n",
    "\n",
    "class satellite():\n",
    "    def __init__(self, p=np.array[0,0], v=np.array[0,0]):\n",
    "        self.p = p\n",
    "        self.v = v\n",
    "        self.plist = np.array[p]\n",
    "        self.vlist= np.array[v]\n",
    "\n",
    "    def add_plist(self, newp):\n",
    "        self.plist.append(newp)\n",
    "        return self.plist\n",
    "    def add_vlist(self, newv):\n",
    "        self.plist.append(newv)\n",
    "        return self.vlist\n",
    "    \n",
    "    def get_plist(self):\n",
    "        return self.plist\n",
    "    def get_vlist(self):\n",
    "        return self.vlist \n",
    "\n"
   ]
  },
  {
   "cell_type": "code",
   "execution_count": 1,
   "metadata": {},
   "outputs": [
    {
     "ename": "NameError",
     "evalue": "name 'satellite' is not defined",
     "output_type": "error",
     "traceback": [
      "\u001b[1;31m---------------------------------------------------------------------------\u001b[0m",
      "\u001b[1;31mNameError\u001b[0m                                 Traceback (most recent call last)",
      "\u001b[1;32m<ipython-input-1-1828e595c1ba>\u001b[0m in \u001b[0;36m<module>\u001b[1;34m\u001b[0m\n\u001b[0;32m     22\u001b[0m \u001b[1;33m\u001b[0m\u001b[0m\n\u001b[0;32m     23\u001b[0m     \u001b[1;32mreturn\u001b[0m \u001b[1;33m[\u001b[0m\u001b[0mt\u001b[0m\u001b[1;33m,\u001b[0m\u001b[0mx\u001b[0m\u001b[1;33m,\u001b[0m\u001b[0mv\u001b[0m\u001b[1;33m]\u001b[0m\u001b[1;33m\u001b[0m\u001b[1;33m\u001b[0m\u001b[0m\n\u001b[1;32m---> 24\u001b[1;33m \u001b[0mA\u001b[0m\u001b[1;33m=\u001b[0m\u001b[0msatellite\u001b[0m\u001b[1;33m(\u001b[0m\u001b[1;33m[\u001b[0m\u001b[1;36m384e6\u001b[0m\u001b[1;33m,\u001b[0m\u001b[1;36m1\u001b[0m\u001b[1;33m]\u001b[0m\u001b[1;33m,\u001b[0m\u001b[1;33m[\u001b[0m\u001b[1;36m0\u001b[0m\u001b[1;33m,\u001b[0m\u001b[1;36m1000\u001b[0m\u001b[1;33m]\u001b[0m\u001b[1;33m)\u001b[0m\u001b[1;33m\u001b[0m\u001b[1;33m\u001b[0m\u001b[0m\n\u001b[0m\u001b[0;32m     25\u001b[0m \u001b[0mEarth\u001b[0m\u001b[1;33m=\u001b[0m\u001b[0mRK4\u001b[0m\u001b[1;33m(\u001b[0m\u001b[0mA\u001b[0m\u001b[1;33m,\u001b[0m\u001b[1;36m6e24\u001b[0m\u001b[1;33m,\u001b[0m\u001b[1;36m1\u001b[0m\u001b[1;33m,\u001b[0m\u001b[1;36m10000\u001b[0m\u001b[1;33m,\u001b[0m\u001b[1;36m6371e3\u001b[0m\u001b[1;33m)\u001b[0m\u001b[1;33m\u001b[0m\u001b[1;33m\u001b[0m\u001b[0m\n",
      "\u001b[1;31mNameError\u001b[0m: name 'satellite' is not defined"
     ]
    }
   ],
   "source": [
    "def RK4(A,tf,x0,v0,h):\n",
    "    t=np.arange(0,tf+h,h)\n",
    "    x=[np.array(x0[0],x0[1])]\n",
    "    v=[np.array([v0[0],v0[1]])]\n",
    "\n",
    "    for i in range(len(t)-1):\n",
    "\n",
    "        K1x = Function(1,t[i],x[i],v[i])\n",
    "        K1v = Function(2,t[i],x[i],v[i])\n",
    "        K2x = Function(1,t[i]+(h/2.0), x[i]+(h/2.0)*K1x, v[i]+h*K1v/2)\n",
    "        K2v = Function(2,t[i]+(h/2.0), x[i]+(h/2.0)*K1x, v[i]+h*K1v/2)\n",
    "        K3x = Function(1,t[i]+(h/2), x[i]+(h/2.0)*K2x,v[i]+h*K2v/2)\n",
    "        K3v = Function(2,t[i]+(h/2), x[i]+(h/2.0)*K2x,v[i]+h*K2v/2)\n",
    "        K4x = Function(1,t[i]+h, x[i]+h*K3x,v[i]+h*K3v/2)\n",
    "        K4v = Function(2,t[i]+h, x[i]+h*K3x,v[i]+h*K3v/2)\n",
    "        \n",
    "        if magnitude(x[i])<R:\n",
    "            x.append(x[-1])\n",
    "            v.append(v[-1])\n",
    "            \n",
    "        else:\n",
    "            x.append(x[i]+h/6*(K1x+2*K2x+2*K3x+K4x))\n",
    "            v.append(v[i]+h/6*(K1v+2*K2v+2*K3v+K4v))\n",
    "\n",
    "    return [t,x,v]\n",
    "\n",
    "A=satellite([384e6,1],[0,1000])\n",
    "Earth=RK4(A,6e24,1,10000,6371e3)"
   ]
  },
  {
   "cell_type": "code",
   "execution_count": 96,
   "metadata": {},
   "outputs": [
    {
     "name": "stdout",
     "output_type": "stream",
     "text": [
      "[3.84000000e+08 3.84000000e+08 2.71569010e-03 ... 2.71541854e+01\n",
      " 5.43110864e+01 2.71569010e+01]\n",
      "[1.00000000e+00 4.00444800e+14 4.00444800e+14 ... 4.00404756e+18\n",
      " 8.00849556e+18 4.00444800e+18]\n"
     ]
    },
    {
     "data": {
      "image/png": "[encoded data removed]",
      "text/plain": [
       "<Figure size 432x288 with 1 Axes>"
      ]
     },
     "metadata": {
      "needs_background": "light"
     },
     "output_type": "display_data"
    }
   ],
   "source": [
    "position=np.array(A.get_plist())\n",
    "x, y = position.T\n",
    "print(x)\n",
    "print(y)\n",
    "plt.plot(x,y)\n",
    "plt.show()"
   ]
  },
  {
   "cell_type": "code",
   "execution_count": null,
   "metadata": {},
   "outputs": [],
   "source": []
  }
 ],
 "metadata": {
  "kernelspec": {
   "display_name": "Python 3",
   "language": "python",
   "name": "python3"
  },
  "language_info": {
   "codemirror_mode": {
    "name": "ipython",
    "version": 3
   },
   "file_extension": ".py",
   "mimetype": "text/x-python",
   "name": "python",
   "nbconvert_exporter": "python",
   "pygments_lexer": "ipython3",
   "version": "3.8.5"
  }
 },
 "nbformat": 4,
 "nbformat_minor": 4
}
